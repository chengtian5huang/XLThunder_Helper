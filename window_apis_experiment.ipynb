{
 "cells": [
  {
   "cell_type": "code",
   "execution_count": 3,
   "metadata": {},
   "outputs": [],
   "source": [
    "import ctypes\n",
    "user32_lib = ctypes.WinDLL(r\"C:\\Windows\\System32\\user32.dll\")"
   ]
  },
  {
   "cell_type": "code",
   "execution_count": 28,
   "metadata": {},
   "outputs": [
    {
     "data": {
      "text/plain": [
       "854852"
      ]
     },
     "execution_count": 28,
     "metadata": {},
     "output_type": "execute_result"
    }
   ],
   "source": [
    "user32_lib.FindWindowW(\"XLUEFrameHostWnd\", \"\")"
   ]
  },
  {
   "cell_type": "code",
   "execution_count": null,
   "metadata": {},
   "outputs": [
    {
     "data": {
      "text/plain": [
       "'<__main__.RECT object at 0x000002206B142348>'"
      ]
     },
     "execution_count": 35,
     "metadata": {},
     "output_type": "execute_result"
    }
   ],
   "source": [
    "from collections import namedtuple\n",
    "\n",
    "\n",
    "class RECT(ctypes.Structure):\n",
    "    \"\"\" creates a struct to match emxArray_real_T \"\"\"\n",
    "\n",
    "    _fields_ = [('left', ctypes.c_int),\n",
    "                ('right', ctypes.c_int),\n",
    "                ('top', ctypes.c_int),\n",
    "                ('bottom', ctypes.c_int)]\n",
    "\n",
    "\n",
    "a = RECT()\n"
   ]
  },
  {
   "cell_type": "code",
   "execution_count": 35,
   "metadata": {},
   "outputs": [
    {
     "data": {
      "text/plain": [
       "'<__main__.RECT object at 0x000002206B142348>'"
      ]
     },
     "execution_count": 35,
     "metadata": {},
     "output_type": "execute_result"
    }
   ],
   "source": [
    "\n",
    "a.__repr__()"
   ]
  },
  {
   "cell_type": "code",
   "execution_count": 27,
   "metadata": {},
   "outputs": [],
   "source": [
    "class RECT(ctypes.Structure):\n",
    "    pass\n",
    "\n",
    "\n",
    "RECT._fields_ = [('left', ctypes.c_int),\n",
    "                 ('right', ctypes.c_int),\n",
    "                 ('top', ctypes.c_int),\n",
    "                 ('bottom', ctypes.c_int)]\n",
    "a = RECT()"
   ]
  },
  {
   "cell_type": "code",
   "execution_count": 28,
   "metadata": {},
   "outputs": [
    {
     "data": {
      "text/plain": [
       "1"
      ]
     },
     "execution_count": 28,
     "metadata": {},
     "output_type": "execute_result"
    }
   ],
   "source": [
    "\n",
    "user32_lib.GetWindowRect(854852, ctypes.byref(a))\n"
   ]
  },
  {
   "cell_type": "code",
   "execution_count": 29,
   "metadata": {},
   "outputs": [
    {
     "data": {
      "text/plain": [
       "(1817, 430, 1667, 280)"
      ]
     },
     "execution_count": 29,
     "metadata": {},
     "output_type": "execute_result"
    }
   ],
   "source": [
    "a.top, a.bottom, a.left, a.right"
   ]
  },
  {
   "cell_type": "code",
   "execution_count": 4,
   "metadata": {},
   "outputs": [],
   "source": [
    "class ScreenPoint(ctypes.Structure):\n",
    "    _fields_ = [(\"x\", ctypes.c_int),\n",
    "                (\"y\", ctypes.c_int)]\n",
    "\n",
    "\n",
    "apoint = ScreenPoint()\n"
   ]
  },
  {
   "cell_type": "code",
   "execution_count": 39,
   "metadata": {},
   "outputs": [
    {
     "data": {
      "text/plain": [
       "(1742, 355)"
      ]
     },
     "execution_count": 39,
     "metadata": {},
     "output_type": "execute_result"
    }
   ],
   "source": [
    "apoint.x, apoint.y = 75, 75\n",
    "user32_lib.ClientToScreen(0xd0b44, ctypes.byref(apoint))\n",
    "apoint.x, apoint.y\n",
    "user32_lib.SetCursorPos(apoint.x, apoint.y)\n",
    "apoint.x, apoint.y"
   ]
  },
  {
   "cell_type": "code",
   "execution_count": 55,
   "metadata": {},
   "outputs": [],
   "source": [
    "special_point = namedtuple(\"point\", \"x y\")"
   ]
  },
  {
   "cell_type": "code",
   "execution_count": 58,
   "metadata": {},
   "outputs": [],
   "source": [
    "b = special_point(75, 75)\n"
   ]
  },
  {
   "cell_type": "code",
   "execution_count": null,
   "metadata": {},
   "outputs": [
    {
     "data": {
      "text/plain": [
       "1"
      ]
     },
     "execution_count": 7,
     "metadata": {},
     "output_type": "execute_result"
    }
   ],
   "source": [
    "import special_wnds\n",
    "getattr(special_wnds, special_wnds.PosSpeedMeter.__name__[3:])().classname\n"
   ]
  },
  {
   "cell_type": "code",
   "execution_count": 7,
   "metadata": {},
   "outputs": [
    {
     "data": {
      "text/plain": [
       "1"
      ]
     },
     "execution_count": 7,
     "metadata": {},
     "output_type": "execute_result"
    }
   ],
   "source": [
    "from special_wnds import LoginWindow\n",
    "from win_api import most_wanted_wnd, __user32lib, pull_2_surface\n",
    "\n",
    "hnd = most_wanted_wnd(LoginWindow)\n",
    "pull_2_surface(hnd)\n",
    "\n"
   ]
  },
  {
   "cell_type": "code",
   "execution_count": null,
   "metadata": {},
   "outputs": [],
   "source": []
  }
 ],
 "metadata": {
  "kernelspec": {
   "display_name": "Python 2",
   "language": "python",
   "name": "python2"
  },
  "language_info": {
   "codemirror_mode": {
    "name": "ipython",
    "version": 2
   },
   "file_extension": ".py",
   "mimetype": "text/x-python",
   "name": "python",
   "nbconvert_exporter": "python",
   "pygments_lexer": "ipython2",
   "version": "2.7.6"
  }
 },
 "nbformat": 4,
 "nbformat_minor": 0
}
