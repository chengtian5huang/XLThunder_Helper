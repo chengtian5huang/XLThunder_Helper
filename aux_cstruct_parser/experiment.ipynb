{
 "cells": [
  {
   "cell_type": "code",
   "execution_count": 1,
   "metadata": {
    "collapsed": true
   },
   "outputs": [],
   "source": [
    "example_text = \"\"\"typedef struct tagHARDWAREINPUT {\n",
    "  DWORD uMsg;\n",
    "  WORD  wParamL;\n",
    "  WORD  wParamH;\n",
    "} HARDWAREINPUT, *PHARDWAREINPUT, *LPHARDWAREINPUT;\n",
    "\n",
    "typedef struct tagMOUSEINPUT {\n",
    "  LONG      dx;\n",
    "  LONG      dy;\n",
    "  DWORD     mouseData;\n",
    "  DWORD     dwFlags;\n",
    "  DWORD     time;\n",
    "  ULONG_PTR dwExtraInfo;\n",
    "} MOUSEINPUT, *PMOUSEINPUT, *LPMOUSEINPUT;\"\"\"\n"
   ]
  },
  {
   "cell_type": "code",
   "execution_count": 19,
   "metadata": {},
   "outputs": [],
   "source": [
    "import re\n",
    "struct_area = re.compile(r\"(?P<struct_name>\\w+)\\s+{\\n(?P<fields>[\\s\\w;_]+)\\n}+\")\n",
    "type_n_field = re.compile(r\"(?P<one_field>(?P<c_type>\\w+)\\s+(?P<field_name>\\w+);)+\")"
   ]
  },
  {
   "cell_type": "code",
   "execution_count": 13,
   "metadata": {},
   "outputs": [],
   "source": [
    "ans = list(re.finditer(struct_area, example_text))"
   ]
  },
  {
   "cell_type": "code",
   "execution_count": 26,
   "metadata": {},
   "outputs": [
    {
     "data": {
      "text/plain": [
       "'tagHARDWAREINPUT'"
      ]
     },
     "execution_count": 26,
     "metadata": {},
     "output_type": "execute_result"
    }
   ],
   "source": [
    "ans[0].group(\"struct_name\")\n"
   ]
  },
  {
   "cell_type": "code",
   "execution_count": null,
   "metadata": {},
   "outputs": [
    {
     "data": {
      "text/plain": [
       "'tagHARDWAREINPUT'"
      ]
     },
     "execution_count": 26,
     "metadata": {},
     "output_type": "execute_result"
    }
   ],
   "source": [
    ", ans[0].group(\"fields\")\n"
   ]
  },
  {
   "cell_type": "code",
   "execution_count": 25,
   "metadata": {},
   "outputs": [
    {
     "data": {
      "text/plain": [
       "[('DWORD', 'uMsg'), ('WORD', 'wParamL'), ('WORD', 'wParamH')]"
      ]
     },
     "execution_count": 25,
     "metadata": {},
     "output_type": "execute_result"
    }
   ],
   "source": [
    "each_field = list(re.finditer(type_n_field, ans[0].group(\"fields\")))\n",
    "[(afield.group(\"c_type\"), afield.group(\"field_name\")) for afield in each_field]"
   ]
  },
  {
   "cell_type": "code",
   "execution_count": 67,
   "metadata": {},
   "outputs": [
    {
     "name": "stdout",
     "output_type": "stream",
     "text": [
      "class RECTXXX(ctypes.Structure):\n    _fields_ = [        ('left', <class 'ctypes.c_long'>),\n         ('right', <class 'ctypes.c_long'>),\n         ('top', <class 'ctypes.c_long'>),\n         ('bottom', <class 'ctypes.c_long'>)]\n"
     ]
    }
   ],
   "source": [
    "import ctypes\n",
    "\n",
    "fields = [('left', ctypes.c_int),\n",
    "          ('right', ctypes.c_int),\n",
    "          ('top', ctypes.c_int),\n",
    "          ('bottom', ctypes.c_int)]\n",
    "template = \"\"\"class {class_name}(ctypes.Structure):\n",
    "    _fields_ = {fields_list}\"\"\"\n"
   ]
  },
  {
   "cell_type": "code",
   "execution_count": 49,
   "metadata": {},
   "outputs": [
    {
     "name": "stdout",
     "output_type": "stream",
     "text": [
      "class RECTXXX(ctypes.Structure):\n    _fields_ = [        ('left', <class 'ctypes.c_long'>),\n         ('right', <class 'ctypes.c_long'>),\n         ('top', <class 'ctypes.c_long'>),\n         ('bottom', <class 'ctypes.c_long'>)]\n"
     ]
    }
   ],
   "source": [
    "[(one_field[0], str(one_field[1])[8:-2]) for one_field in fields]"
   ]
  },
  {
   "cell_type": "code",
   "execution_count": 65,
   "metadata": {},
   "outputs": [
    {
     "name": "stdout",
     "output_type": "stream",
     "text": [
      "class RECTXXX(ctypes.Structure):\n    _fields_ = [        ('left', <class 'ctypes.c_long'>),\n         ('right', <class 'ctypes.c_long'>),\n         ('top', <class 'ctypes.c_long'>),\n         ('bottom', <class 'ctypes.c_long'>)]\n"
     ]
    }
   ],
   "source": [
    "import pprint\n",
    "\n",
    "print(pprint.pformat(fields, indent=4))"
   ]
  },
  {
   "cell_type": "code",
   "execution_count": 72,
   "metadata": {},
   "outputs": [
    {
     "name": "stdout",
     "output_type": "stream",
     "text": [
      "class RECTXXX(ctypes.Structure):\n    _fields_ = [        ('left', <class 'ctypes.c_long'>),\n         ('right', <class 'ctypes.c_long'>),\n         ('top', <class 'ctypes.c_long'>),\n         ('bottom', <class 'ctypes.c_long'>)]\n"
     ]
    }
   ],
   "source": [
    "joined = \"\\n\\n\".join((template.format(class_name=\"RECTXXX\", fields_list=pprint.pformat(fields, indent=9)),))\n",
    "print(joined)\n"
   ]
  },
  {
   "cell_type": "code",
   "execution_count": 59,
   "metadata": {},
   "outputs": [
    {
     "name": "stdout",
     "output_type": "stream",
     "text": [
      "class RECTXXX(ctypes.Structure):\n                    _fields_ = [('left', ctypes.c_long), ('right', ctypes.c_long), ('top', ctypes.c_long), ('bottom', ctypes.c_long)]\n"
     ]
    }
   ],
   "source": [
    "c_type_pattern = re.compile(r\"<class '(?P<pure_name>[\\w.]+)'>\")\n",
    "\n",
    "\n",
    "def pure_type_name(match_obj):\n",
    "    return match_obj.group(\"pure_name\")\n",
    "\n",
    "\n",
    "joined_cleaned = re.sub(c_type_pattern, pure_type_name, joined)\n",
    "print(joined_cleaned)\n"
   ]
  },
  {
   "cell_type": "code",
   "execution_count": 60,
   "metadata": {},
   "outputs": [],
   "source": [
    "exec(joined_cleaned)"
   ]
  },
  {
   "cell_type": "code",
   "execution_count": 61,
   "metadata": {},
   "outputs": [
    {
     "data": {
      "text/plain": [
       "__main__.RECTXXX"
      ]
     },
     "execution_count": 61,
     "metadata": {},
     "output_type": "execute_result"
    }
   ],
   "source": [
    "RECTXXX"
   ]
  },
  {
   "cell_type": "code",
   "execution_count": null,
   "metadata": {},
   "outputs": [],
   "source": []
  }
 ],
 "metadata": {
  "kernelspec": {
   "display_name": "Python 2",
   "language": "python",
   "name": "python2"
  },
  "language_info": {
   "codemirror_mode": {
    "name": "ipython",
    "version": 2
   },
   "file_extension": ".py",
   "mimetype": "text/x-python",
   "name": "python",
   "nbconvert_exporter": "python",
   "pygments_lexer": "ipython2",
   "version": "2.7.6"
  }
 },
 "nbformat": 4,
 "nbformat_minor": 0
}
