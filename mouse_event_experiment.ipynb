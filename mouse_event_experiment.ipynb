{
 "cells": [
  {
   "cell_type": "code",
   "execution_count": 18,
   "metadata": {
    "collapsed": true
   },
   "outputs": [],
   "source": [
    "import ctypes\n",
    "\n",
    "user32_lib = ctypes.WinDLL(r\"C:\\Windows\\System32\\user32.dll\")\n",
    "kernel32_lib = ctypes.WinDLL(r\"C:\\Windows\\System32\\kernel32.dll\")\n"
   ]
  },
  {
   "cell_type": "code",
   "execution_count": 25,
   "metadata": {},
   "outputs": [],
   "source": [
    "LONG = ctypes.c_long\n",
    "DWORD = ctypes.c_ulong\n",
    "ULONG_PTR = ctypes.POINTER(DWORD)\n",
    "WORD = ctypes.c_ushort\n",
    "\n",
    "\n",
    "class tagMOUSEINPUT(ctypes.Structure):\n",
    "    _fields_ = [('dx', LONG),\n",
    "                ('dy', LONG),\n",
    "                ('mouseData', DWORD),\n",
    "                ('dwFlags', DWORD),\n",
    "                ('time', DWORD),\n",
    "                ('dwExtraInfo', ULONG_PTR)]\n",
    "\n",
    "\n",
    "class MOUSEINPUT(ctypes.Structure):\n",
    "    _fields_ = (('dx', LONG),\n",
    "                ('dy', LONG),\n",
    "                ('mouseData', DWORD),\n",
    "                ('dwFlags', DWORD),\n",
    "                ('time', DWORD),\n",
    "                ('dwExtraInfo', ULONG_PTR))\n",
    "\n",
    "\n",
    "class KEYBDINPUT(ctypes.Structure):\n",
    "    _fields_ = (('wVk', WORD),\n",
    "                ('wScan', WORD),\n",
    "                ('dwFlags', DWORD),\n",
    "                ('time', DWORD),\n",
    "                ('dwExtraInfo', ULONG_PTR))\n",
    "\n",
    "\n",
    "class HARDWAREINPUT(ctypes.Structure):\n",
    "    _fields_ = (('uMsg', DWORD),\n",
    "                ('wParamL', WORD),\n",
    "                ('wParamH', WORD))\n"
   ]
  },
  {
   "cell_type": "code",
   "execution_count": 26,
   "metadata": {},
   "outputs": [],
   "source": [
    "class _INPUTunion(ctypes.Union):\n",
    "    _fields_ = (('mi', MOUSEINPUT),\n",
    "                ('ki', KEYBDINPUT),\n",
    "                ('hi', HARDWAREINPUT))\n",
    "\n",
    "\n",
    "class tagINPUT(ctypes.Structure):\n",
    "    _fields_ = [('type', ctypes.c_double),\n",
    "                ('dummy_union', _INPUTunion)]\n"
   ]
  },
  {
   "cell_type": "code",
   "execution_count": 40,
   "metadata": {},
   "outputs": [
    {
     "ename": "TypeError",
     "evalue": "must be a ctypes type",
     "traceback": [
      "\u001b[1;31m---------------------------------------------------------------------------\u001b[0m",
      "\u001b[1;31mTypeError\u001b[0m                                 Traceback (most recent call last)",
      "\u001b[1;32m<ipython-input-40-5e27f83b9294>\u001b[0m in \u001b[0;36m<module>\u001b[1;34m()\u001b[0m\n\u001b[0;32m      4\u001b[0m \u001b[0mmip\u001b[0m\u001b[1;33m.\u001b[0m\u001b[0mdwFlags\u001b[0m \u001b[1;33m=\u001b[0m \u001b[1;36m0x8018\u001b[0m\u001b[1;33m\u001b[0m\u001b[0m\n\u001b[0;32m      5\u001b[0m \u001b[0mmip\u001b[0m\u001b[1;33m.\u001b[0m\u001b[0mtime\u001b[0m \u001b[1;33m=\u001b[0m \u001b[1;36m0\u001b[0m\u001b[1;33m\u001b[0m\u001b[0m\n\u001b[1;32m----> 6\u001b[1;33m \u001b[0mmip\u001b[0m\u001b[1;33m.\u001b[0m\u001b[0mdwExtraInfo\u001b[0m \u001b[1;33m=\u001b[0m \u001b[0mctypes\u001b[0m\u001b[1;33m.\u001b[0m\u001b[0mPOINTER\u001b[0m\u001b[1;33m(\u001b[0m\u001b[0mctypes\u001b[0m\u001b[1;33m.\u001b[0m\u001b[0mc_int\u001b[0m\u001b[1;33m(\u001b[0m\u001b[1;36m0x0\u001b[0m\u001b[1;33m)\u001b[0m\u001b[1;33m)\u001b[0m\u001b[1;33m\u001b[0m\u001b[0m\n\u001b[0m",
      "\u001b[1;31mTypeError\u001b[0m: must be a ctypes type"
     ],
     "output_type": "error"
    }
   ],
   "source": [
    "mip = MOUSEINPUT()\n",
    "mip.x, mip.y = 1742, 355\n",
    "mip.mouseData = 0x001\n",
    "mip.dwFlags = 0x8018\n",
    "mip.time = 0\n",
    "mip.dwExtraInfo = ctypes.POINTER(ctypes.c_int(0x0))\n"
   ]
  },
  {
   "cell_type": "code",
   "execution_count": 33,
   "metadata": {},
   "outputs": [
    {
     "ename": "TypeError",
     "evalue": "incompatible types, tagMOUSEINPUT instance instead of MOUSEINPUT instance",
     "traceback": [
      "\u001b[1;31m---------------------------------------------------------------------------\u001b[0m",
      "\u001b[1;31mTypeError\u001b[0m                                 Traceback (most recent call last)",
      "\u001b[1;32m<ipython-input-33-fbe74eaaf56f>\u001b[0m in \u001b[0;36m<module>\u001b[1;34m()\u001b[0m\n\u001b[0;32m      1\u001b[0m \u001b[0mdU\u001b[0m \u001b[1;33m=\u001b[0m \u001b[0m_INPUTunion\u001b[0m\u001b[1;33m(\u001b[0m\u001b[1;33m)\u001b[0m\u001b[1;33m\u001b[0m\u001b[0m\n\u001b[1;32m----> 2\u001b[1;33m \u001b[0mdU\u001b[0m\u001b[1;33m.\u001b[0m\u001b[0mmi\u001b[0m \u001b[1;33m=\u001b[0m \u001b[0mmip\u001b[0m\u001b[1;33m\u001b[0m\u001b[0m\n\u001b[0m\u001b[0;32m      3\u001b[0m \u001b[0mip\u001b[0m \u001b[1;33m=\u001b[0m \u001b[0mtagINPUT\u001b[0m\u001b[1;33m(\u001b[0m\u001b[1;33m)\u001b[0m\u001b[1;33m\u001b[0m\u001b[0m\n\u001b[0;32m      4\u001b[0m \u001b[0mip\u001b[0m\u001b[1;33m.\u001b[0m\u001b[0mtype\u001b[0m \u001b[1;33m=\u001b[0m \u001b[1;36m0x0\u001b[0m\u001b[1;33m\u001b[0m\u001b[0m\n\u001b[0;32m      5\u001b[0m \u001b[0mip\u001b[0m\u001b[1;33m.\u001b[0m\u001b[0mdummy_union\u001b[0m \u001b[1;33m=\u001b[0m \u001b[0mdU\u001b[0m\u001b[1;33m\u001b[0m\u001b[0m\n",
      "\u001b[1;31mTypeError\u001b[0m: incompatible types, tagMOUSEINPUT instance instead of MOUSEINPUT instance"
     ],
     "output_type": "error"
    }
   ],
   "source": [
    "dU = _INPUTunion()\n",
    "dU.mi = mip\n",
    "ip = tagINPUT()\n",
    "ip.type = 0x0\n",
    "ip.dummy_union = dU\n"
   ]
  },
  {
   "cell_type": "code",
   "execution_count": 32,
   "metadata": {},
   "outputs": [
    {
     "ename": "TypeError",
     "evalue": "incompatible types, tagMOUSEINPUT instance instead of MOUSEINPUT instance",
     "traceback": [
      "\u001b[1;31m---------------------------------------------------------------------------\u001b[0m",
      "\u001b[1;31mTypeError\u001b[0m                                 Traceback (most recent call last)",
      "\u001b[1;32m<ipython-input-33-fbe74eaaf56f>\u001b[0m in \u001b[0;36m<module>\u001b[1;34m()\u001b[0m\n\u001b[0;32m      1\u001b[0m \u001b[0mdU\u001b[0m \u001b[1;33m=\u001b[0m \u001b[0m_INPUTunion\u001b[0m\u001b[1;33m(\u001b[0m\u001b[1;33m)\u001b[0m\u001b[1;33m\u001b[0m\u001b[0m\n\u001b[1;32m----> 2\u001b[1;33m \u001b[0mdU\u001b[0m\u001b[1;33m.\u001b[0m\u001b[0mmi\u001b[0m \u001b[1;33m=\u001b[0m \u001b[0mmip\u001b[0m\u001b[1;33m\u001b[0m\u001b[0m\n\u001b[0m\u001b[0;32m      3\u001b[0m \u001b[0mip\u001b[0m \u001b[1;33m=\u001b[0m \u001b[0mtagINPUT\u001b[0m\u001b[1;33m(\u001b[0m\u001b[1;33m)\u001b[0m\u001b[1;33m\u001b[0m\u001b[0m\n\u001b[0;32m      4\u001b[0m \u001b[0mip\u001b[0m\u001b[1;33m.\u001b[0m\u001b[0mtype\u001b[0m \u001b[1;33m=\u001b[0m \u001b[1;36m0x0\u001b[0m\u001b[1;33m\u001b[0m\u001b[0m\n\u001b[0;32m      5\u001b[0m \u001b[0mip\u001b[0m\u001b[1;33m.\u001b[0m\u001b[0mdummy_union\u001b[0m \u001b[1;33m=\u001b[0m \u001b[0mdU\u001b[0m\u001b[1;33m\u001b[0m\u001b[0m\n",
      "\u001b[1;31mTypeError\u001b[0m: incompatible types, tagMOUSEINPUT instance instead of MOUSEINPUT instance"
     ],
     "output_type": "error"
    }
   ],
   "source": [
    "class dummy_A(ctypes.Array):\n",
    "    _length_ = 1\n",
    "    _type_ = tagINPUT\n",
    "\n",
    "\n",
    "dA = dummy_A()\n",
    "dA[0] = ip\n"
   ]
  },
  {
   "cell_type": "code",
   "execution_count": 31,
   "metadata": {},
   "outputs": [
    {
     "ename": "TypeError",
     "evalue": "incompatible types, tagINPUT instance instead of tagINPUT instance",
     "traceback": [
      "\u001b[1;31m---------------------------------------------------------------------------\u001b[0m",
      "\u001b[1;31mTypeError\u001b[0m                                 Traceback (most recent call last)",
      "\u001b[1;32m<ipython-input-31-fb4adb6d4791>\u001b[0m in \u001b[0;36m<module>\u001b[1;34m()\u001b[0m\n\u001b[0;32m      1\u001b[0m \u001b[0mpIp\u001b[0m \u001b[1;33m=\u001b[0m \u001b[0mtagINPUT\u001b[0m \u001b[1;33m*\u001b[0m \u001b[1;36m1\u001b[0m\u001b[1;33m\u001b[0m\u001b[0m\n\u001b[1;32m----> 2\u001b[1;33m \u001b[0muser32_lib\u001b[0m\u001b[1;33m.\u001b[0m\u001b[0mSendInput\u001b[0m\u001b[1;33m(\u001b[0m\u001b[1;36m1\u001b[0m\u001b[1;33m,\u001b[0m \u001b[0mpIp\u001b[0m\u001b[1;33m(\u001b[0m\u001b[0mip\u001b[0m\u001b[1;33m)\u001b[0m\u001b[1;33m,\u001b[0m \u001b[0mctypes\u001b[0m\u001b[1;33m.\u001b[0m\u001b[0mc_int\u001b[0m\u001b[1;33m(\u001b[0m\u001b[0mctypes\u001b[0m\u001b[1;33m.\u001b[0m\u001b[0msizeof\u001b[0m\u001b[1;33m(\u001b[0m\u001b[0mip\u001b[0m\u001b[1;33m)\u001b[0m\u001b[1;33m)\u001b[0m\u001b[1;33m)\u001b[0m\u001b[1;33m\u001b[0m\u001b[0m\n\u001b[0m",
      "\u001b[1;31mTypeError\u001b[0m: incompatible types, tagINPUT instance instead of tagINPUT instance"
     ],
     "output_type": "error"
    }
   ],
   "source": [
    "pIp = tagINPUT * 1\n",
    "user32_lib.SendInput(1, pIp(ip), ctypes.c_int(ctypes.sizeof(ip)))\n"
   ]
  },
  {
   "cell_type": "code",
   "execution_count": 22,
   "metadata": {},
   "outputs": [
    {
     "data": {
      "text/plain": [
       "0"
      ]
     },
     "execution_count": 22,
     "metadata": {},
     "output_type": "execute_result"
    }
   ],
   "source": [
    "kernel32_lib.GetLastError()"
   ]
  },
  {
   "cell_type": "code",
   "execution_count": null,
   "metadata": {},
   "outputs": [],
   "source": []
  }
 ],
 "metadata": {
  "kernelspec": {
   "display_name": "Python 2",
   "language": "python",
   "name": "python2"
  },
  "language_info": {
   "codemirror_mode": {
    "name": "ipython",
    "version": 2
   },
   "file_extension": ".py",
   "mimetype": "text/x-python",
   "name": "python",
   "nbconvert_exporter": "python",
   "pygments_lexer": "ipython2",
   "version": "2.7.6"
  }
 },
 "nbformat": 4,
 "nbformat_minor": 0
}
