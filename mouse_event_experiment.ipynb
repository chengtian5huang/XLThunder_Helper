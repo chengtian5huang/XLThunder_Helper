{
 "cells": [
  {
   "cell_type": "code",
   "execution_count": 3,
   "metadata": {
    "collapsed": true
   },
   "outputs": [],
   "source": [
    "import ctypes\n",
    "\n",
    "user32_lib = ctypes.WinDLL(r\"C:\\Windows\\System32\\user32.dll\")\n",
    "kernel32_lib = ctypes.WinDLL(r\"C:\\Windows\\System32\\kernel32.dll\")\n"
   ]
  },
  {
   "cell_type": "markdown",
   "metadata": {
    "collapsed": true
   },
   "source": [
    "# Lowest level struct from msdn docs"
   ]
  },
  {
   "cell_type": "code",
   "execution_count": 6,
   "metadata": {},
   "outputs": [],
   "source": [
    "LONG = ctypes.c_long\n",
    "DWORD = ctypes.c_ulong\n",
    "ULONG_PTR = ctypes.POINTER(DWORD)\n",
    "WORD = ctypes.c_ushort\n",
    "\n",
    "STRUCT = ctypes.Structure\n",
    "UNION = ctypes.Union\n",
    "\n",
    "\n",
    "class tagMOUSEINPUT(STRUCT):\n",
    "    _fields_ = (('dx', LONG),\n",
    "                ('dy', LONG),\n",
    "                ('mouseData', DWORD),\n",
    "                ('dwFlags', DWORD),\n",
    "                ('time', DWORD),\n",
    "                ('dwExtraInfo', ULONG_PTR))\n",
    "\n",
    "\n",
    "class tagKEYBDINPUT(STRUCT):\n",
    "    _fields_ = (('wVk', WORD),\n",
    "                ('wScan', WORD),\n",
    "                ('dwFlags', DWORD),\n",
    "                ('time', DWORD),\n",
    "                ('dwExtraInfo', ULONG_PTR))\n",
    "\n",
    "\n",
    "class tagHARDWAREINPUT(STRUCT):\n",
    "    _fields_ = (('uMsg', DWORD),\n",
    "                ('wParamL', WORD),\n",
    "                ('wParamH', WORD))\n",
    "\n",
    "\n",
    "class Union_tagINPUT(UNION):\n",
    "    _fields_ = (('mi', tagMOUSEINPUT),\n",
    "                ('ki', tagKEYBDINPUT),\n",
    "                ('hi', tagHARDWAREINPUT))\n",
    "\n",
    "\n",
    "class tagINPUT(STRUCT):\n",
    "    _fields_ = (('type', DWORD),\n",
    "                ('dummy_union', Union_tagINPUT))\n"
   ]
  },
  {
   "cell_type": "markdown",
   "metadata": {},
   "source": [
    "#Wrap method for convenient"
   ]
  },
  {
   "cell_type": "code",
   "execution_count": null,
   "metadata": {},
   "outputs": [
    {
     "data": {
      "text/plain": [
       "1"
      ]
     },
     "execution_count": 14,
     "metadata": {},
     "output_type": "execute_result"
    }
   ],
   "source": [
    "# see https://docs.microsoft.com/en-us/windows/desktop/api/winuser/ns-winuser-tagmouseinput#members for details.\n",
    "# mouseData for tagMOUSEINPUT struct\n",
    "WHEEL_DELTA = 120\n",
    "XBUTTON1 = 0x0001\n",
    "XBUTTON2 = 0x0002\n",
    "\n",
    "# dwFlags for tagMOUSEINPUT struct\n",
    "MOUSEEVENTF_ABSOLUTE = 0x8000\n",
    "MOUSEEVENTF_HWHEEL = 0x01000\n",
    "MOUSEEVENTF_MOVE = 0x0001\n",
    "MOUSEEVENTF_MOVE_NOCOALESCE = 0x2000\n",
    "MOUSEEVENTF_LEFTDOWN = 0x0002\n",
    "MOUSEEVENTF_LEFTUP = 0x0004\n",
    "MOUSEEVENTF_RIGHTDOWN = 0x0008\n",
    "MOUSEEVENTF_RIGHTUP = 0x0010\n",
    "MOUSEEVENTF_MIDDLEDOWN = 0x0020\n",
    "MOUSEEVENTF_MIDDLEUP = 0x0040\n",
    "MOUSEEVENTF_VIRTUALDESK = 0x4000\n",
    "MOUSEEVENTF_WHEEL = 0x0800\n",
    "MOUSEEVENTF_XDOWN = 0x0080\n",
    "MOUSEEVENTF_XUP = 0x0100\n",
    "\n",
    "# type for tagINPUT struct\n",
    "INPUT_MOUSE = 0\n",
    "INPUT_KEYBOARD = 1\n",
    "INPUT_HARDWARE = 2\n",
    "\n",
    "\"\"\"\n",
    "def make_mouseinput(data, flags, x, y):\n",
    "    return tagMOUSEINPUT(x, y, data, flags, 0, None)\n",
    "\"\"\"\n",
    "\n",
    "\n",
    "def make_mouse_input(data, flags, x, y):\n",
    "    return tagINPUT(INPUT_MOUSE, Union_tagINPUT(mi=tagMOUSEINPUT(x, y, data, flags, 0, None)))\n",
    "\n",
    "\n",
    "def send_input(*inputs):\n",
    "    n_inputs = len(inputs)\n",
    "    lpointer_input = tagINPUT * n_inputs\n",
    "    pointer_inputs = lpointer_input(*inputs)\n",
    "    cb_size = ctypes.c_int(ctypes.sizeof(tagINPUT))\n",
    "    return ctypes.windll.user32.SendInput(n_inputs, pointer_inputs, cb_size)\n"
   ]
  },
  {
   "cell_type": "markdown",
   "metadata": {},
   "source": [
    "# Normalize Coordinates\n"
   ]
  },
  {
   "cell_type": "code",
   "execution_count": 12,
   "metadata": {},
   "outputs": [],
   "source": [
    "def normalize_coord(x, y):\n",
    "    screen_xsize, screen_ysize = user32_lib.GetSystemMetrics(0), user32_lib.GetSystemMetrics(1)\n",
    "    return int((x / screen_xsize) * 65535), int((y / screen_ysize) * 65535)\n"
   ]
  },
  {
   "cell_type": "code",
   "execution_count": 14,
   "metadata": {},
   "outputs": [
    {
     "data": {
      "text/plain": [
       "1"
      ]
     },
     "execution_count": 14,
     "metadata": {},
     "output_type": "execute_result"
    }
   ],
   "source": [
    "from win_api import most_wanted_cursor_pos\n",
    "from special_wnds import SpeedMeter\n",
    "\n",
    "send_input(make_mouse_input(XBUTTON2, 0x8019, *normalize_coord(*most_wanted_cursor_pos(SpeedMeter()))))\n"
   ]
  },
  {
   "cell_type": "code",
   "execution_count": null,
   "metadata": {},
   "outputs": [],
   "source": []
  }
 ],
 "metadata": {
  "kernelspec": {
   "display_name": "Python 2",
   "language": "python",
   "name": "python2"
  },
  "language_info": {
   "codemirror_mode": {
    "name": "ipython",
    "version": 2
   },
   "file_extension": ".py",
   "mimetype": "text/x-python",
   "name": "python",
   "nbconvert_exporter": "python",
   "pygments_lexer": "ipython2",
   "version": "2.7.6"
  }
 },
 "nbformat": 4,
 "nbformat_minor": 0
}
