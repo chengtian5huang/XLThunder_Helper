{
 "cells": [
  {
   "cell_type": "code",
   "execution_count": 1,
   "metadata": {
    "collapsed": true
   },
   "outputs": [],
   "source": [
    "import psutil"
   ]
  },
  {
   "cell_type": "code",
   "execution_count": 3,
   "metadata": {},
   "outputs": [
    {
     "data": {
      "text/plain": [
       "snetio(bytes_sent=3255069370, bytes_recv=53309785102, packets_sent=27695382, packets_recv=43644424, errin=0, errout=0, dropin=0, dropout=0)"
      ]
     },
     "execution_count": 3,
     "metadata": {},
     "output_type": "execute_result"
    }
   ],
   "source": [
    "psutil.net_io_counters()"
   ]
  },
  {
   "cell_type": "code",
   "execution_count": 6,
   "metadata": {},
   "outputs": [
    {
     "data": {
      "text/plain": [
       "53345209310"
      ]
     },
     "execution_count": 6,
     "metadata": {},
     "output_type": "execute_result"
    }
   ],
   "source": [
    "a = psutil.net_io_counters()\n",
    "a.bytes_recv"
   ]
  },
  {
   "cell_type": "code",
   "execution_count": 25,
   "metadata": {},
   "outputs": [
    {
     "name": "stdout",
     "output_type": "stream",
     "text": [
      "63953682555\n"
     ]
    },
    {
     "name": "stdout",
     "output_type": "stream",
     "text": [
      "63968526907\n14844352\n"
     ]
    },
    {
     "data": {
      "text/plain": [
       "(7248.21875, 'KB/s')"
      ]
     },
     "execution_count": 25,
     "metadata": {},
     "output_type": "execute_result"
    }
   ],
   "source": [
    "import time\n",
    "\n",
    "def network_traffic_speed_avg(interval=2):\n",
    "    _, bytes_recv_before, *_ = psutil.net_io_counters()\n",
    "    print(bytes_recv_before)\n",
    "    time.sleep(interval)\n",
    "    _, bytes_recv_after, *_ = psutil.net_io_counters()\n",
    "    print(bytes_recv_after)\n",
    "    print(bytes_recv_after - bytes_recv_before)\n",
    "    return (bytes_recv_after - bytes_recv_before) / (interval * 1024)\n",
    "\n",
    "network_traffic_speed_avg(2), \"KB/s\"\n"
   ]
  },
  {
   "cell_type": "code",
   "execution_count": 4,
   "metadata": {},
   "outputs": [
    {
     "data": {
      "text/plain": [
       "(1.175, 'GB')"
      ]
     },
     "execution_count": 4,
     "metadata": {},
     "output_type": "execute_result"
    }
   ],
   "source": [
    "import subprocess\n",
    "from collections import namedtuple\n",
    "\n",
    "TrafficReport = namedtuple('TrafficReport', ['bytes_sent', 'bytes_recv'])\n",
    "network_traffic = subprocess.run(['netstat', '-e'], stdout=subprocess.PIPE).stdout\n",
    "raw_report = [line.strip() for line in network_traffic.decode('gbk').split('\\n') if len(line) > 20][1:-1]\n",
    "raw_report\n",
    "\n",
    "traffic_report = TrafficReport(*map(int, [piece for piece in raw_report[0].split(' ') if piece is not ''][::-1][:-1]))\n",
    "traffic_report\n",
    "import math\n",
    "\n",
    "unit_convert_table = ['B', 'KB', 'MB', 'GB', 'TB']\n",
    "\n",
    "\n",
    "def unit_convert(num):\n",
    "    power = int(math.log(num, 1024))\n",
    "    return round(num / 1024 ** power, 3), unit_convert_table[power]\n",
    "\n",
    "\n",
    "unit_convert(traffic_report.bytes_recv)\n"
   ]
  },
  {
   "cell_type": "code",
   "execution_count": 78,
   "metadata": {},
   "outputs": [
    {
     "data": {
      "text/plain": [
       "(188.364, 'MB')"
      ]
     },
     "execution_count": 78,
     "metadata": {},
     "output_type": "execute_result"
    }
   ],
   "source": [
    "unit_convert(71332224131-71134709897)"
   ]
  },
  {
   "cell_type": "code",
   "execution_count": 79,
   "metadata": {},
   "outputs": [
    {
     "data": {
      "text/plain": [
       "(149.793, 'MB')"
      ]
     },
     "execution_count": 79,
     "metadata": {},
     "output_type": "execute_result"
    }
   ],
   "source": [
    "unit_convert(71489949993-71332880176)"
   ]
  },
  {
   "cell_type": "code",
   "execution_count": 1,
   "metadata": {},
   "outputs": [
    {
     "data": {
      "text/plain": [
       "157069817"
      ]
     },
     "execution_count": 1,
     "metadata": {},
     "output_type": "execute_result"
    }
   ],
   "source": [
    "71489949993-71332880176\n"
   ]
  },
  {
   "cell_type": "code",
   "execution_count": 2,
   "metadata": {},
   "outputs": [
    {
     "data": {
      "text/plain": [
       "99968887"
      ]
     },
     "execution_count": 2,
     "metadata": {},
     "output_type": "execute_result"
    }
   ],
   "source": [
    "36994637945-36894669058"
   ]
  },
  {
   "cell_type": "code",
   "execution_count": 6,
   "metadata": {},
   "outputs": [
    {
     "data": {
      "text/plain": [
       "(191.01, 'MB')"
      ]
     },
     "execution_count": 6,
     "metadata": {},
     "output_type": "execute_result"
    }
   ],
   "source": [
    "\n",
    "unit_convert(72713289868-72513000864)"
   ]
  },
  {
   "cell_type": "code",
   "execution_count": null,
   "metadata": {},
   "outputs": [],
   "source": []
  }
 ],
 "metadata": {
  "kernelspec": {
   "display_name": "Python 2",
   "language": "python",
   "name": "python2"
  },
  "language_info": {
   "codemirror_mode": {
    "name": "ipython",
    "version": 2
   },
   "file_extension": ".py",
   "mimetype": "text/x-python",
   "name": "python",
   "nbconvert_exporter": "python",
   "pygments_lexer": "ipython2",
   "version": "2.7.6"
  }
 },
 "nbformat": 4,
 "nbformat_minor": 0
}
