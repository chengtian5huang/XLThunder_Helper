{
 "cells": [
  {
   "cell_type": "code",
   "execution_count": 7,
   "metadata": {
    "collapsed": true
   },
   "outputs": [],
   "source": [
    "from special_wnds import SpeedMeter\n",
    "from mouse_event_api import MouseController"
   ]
  },
  {
   "cell_type": "code",
   "execution_count": 8,
   "metadata": {},
   "outputs": [
    {
     "ename": "TypeError",
     "evalue": "cursor_by_client() missing 2 required positional arguments: 'x' and 'y'",
     "traceback": [
      "\u001b[1;31m---------------------------------------------------------------------------\u001b[0m",
      "\u001b[1;31mTypeError\u001b[0m                                 Traceback (most recent call last)",
      "\u001b[1;32m<ipython-input-8-c1d860597c34>\u001b[0m in \u001b[0;36m<module>\u001b[1;34m()\u001b[0m\n\u001b[0;32m      5\u001b[0m stop_download_commands_group = (\n\u001b[0;32m      6\u001b[0m     \u001b[0mCommands\u001b[0m\u001b[1;33m(\u001b[0m\u001b[1;33m*\u001b[0m\u001b[0mcursor_by_client\u001b[0m\u001b[1;33m(\u001b[0m\u001b[0mspeed_meter_hnd\u001b[0m\u001b[1;33m,\u001b[0m \u001b[1;33m*\u001b[0m\u001b[0mSpeedMeter\u001b[0m\u001b[1;33m.\u001b[0m\u001b[0mclick_pos\u001b[0m\u001b[1;33m)\u001b[0m\u001b[1;33m,\u001b[0m \u001b[0mextra\u001b[0m\u001b[1;33m=\u001b[0m\u001b[1;34m'r'\u001b[0m\u001b[1;33m)\u001b[0m\u001b[1;33m,\u001b[0m\u001b[1;33m\u001b[0m\u001b[0m\n\u001b[1;32m----> 7\u001b[1;33m     \u001b[0mCommands\u001b[0m\u001b[1;33m(\u001b[0m\u001b[1;33m*\u001b[0m\u001b[0mcursor_by_client\u001b[0m\u001b[1;33m(\u001b[0m\u001b[0mspeed_meter_hnd\u001b[0m\u001b[1;33m,\u001b[0m \u001b[1;33m*\u001b[0m\u001b[0mSpeedMeter\u001b[0m\u001b[1;33m.\u001b[0m\u001b[0mmenu_pos\u001b[0m\u001b[1;33m)\u001b[0m\u001b[1;33m,\u001b[0m \u001b[0mextra\u001b[0m\u001b[1;33m=\u001b[0m\u001b[1;34m''\u001b[0m\u001b[1;33m)\u001b[0m\u001b[1;33m\u001b[0m\u001b[0m\n\u001b[0m\u001b[0;32m      8\u001b[0m )\n\u001b[0;32m      9\u001b[0m \u001b[0mmc\u001b[0m \u001b[1;33m=\u001b[0m \u001b[0mMouseController\u001b[0m\u001b[1;33m(\u001b[0m\u001b[1;33m)\u001b[0m\u001b[1;33m\u001b[0m\u001b[0m\n",
      "\u001b[1;31mTypeError\u001b[0m: cursor_by_client() missing 2 required positional arguments: 'x' and 'y'"
     ],
     "output_type": "error"
    }
   ],
   "source": [
    "from mouse_event_api import Commands\n",
    "from win_api import most_wanted_wnd, cursor_by_client\n",
    "\n",
    "speed_meter_hnd = most_wanted_wnd(SpeedMeter)\n",
    "stop_download_commands_group = (\n",
    "    Commands(*cursor_by_client(speed_meter_hnd, *SpeedMeter.click_pos), extra='r'),\n",
    "    Commands(*cursor_by_client(speed_meter_hnd, *SpeedMeter.menu_pos), extra='')\n",
    ")\n",
    "mc = MouseController()\n",
    "mc(stop_download_commands_group)\n"
   ]
  },
  {
   "cell_type": "code",
   "execution_count": 4,
   "metadata": {},
   "outputs": [],
   "source": [
    "from special_wnds import KickedWarning, LoginWindow\n",
    "\n",
    "kicked_warning_hnd = most_wanted_wnd(KickedWarning)\n",
    "login_window_hnd = most_wanted_wnd(LoginWindow)\n",
    "while login_window_hnd and kicked_warning_hnd:\n",
    "    relogin_commands_group = (\n",
    "        Commands(*cursor_by_client(kicked_warning_hnd, *KickedWarning.click_pos), extra='l'),\n",
    "        Commands(*cursor_by_client(login_window_hnd, *LoginWindow.click_pos), extra='l'))\n",
    "    mc(relogin_commands_group)\n"
   ]
  },
  {
   "cell_type": "code",
   "execution_count": null,
   "metadata": {},
   "outputs": [],
   "source": []
  }
 ],
 "metadata": {
  "kernelspec": {
   "display_name": "Python 2",
   "language": "python",
   "name": "python2"
  },
  "language_info": {
   "codemirror_mode": {
    "name": "ipython",
    "version": 2
   },
   "file_extension": ".py",
   "mimetype": "text/x-python",
   "name": "python",
   "nbconvert_exporter": "python",
   "pygments_lexer": "ipython2",
   "version": "2.7.6"
  }
 },
 "nbformat": 4,
 "nbformat_minor": 0
}
